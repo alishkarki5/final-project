{
 "cells": [
  {
   "cell_type": "code",
   "execution_count": null,
   "id": "5adace20",
   "metadata": {},
   "outputs": [],
   "source": [
    "# ##Uncomment this cell and run is once below\n",
    "# !python3.8 -m pip install virtualenv\n",
    "#!mkdir raw_data encoder scaler trained_model\n",
    "# !python3.8 -m virtualenv venv\n",
    "# #!source/venv/bin/activate\n",
    "# !pip install -r requirements.txt\n",
    "# !pip install -r requirement.txt"
   ]
  },
  {
   "cell_type": "code",
   "execution_count": null,
   "id": "dd858e99",
   "metadata": {},
   "outputs": [],
   "source": [
    "#!conda activate base"
   ]
  },
  {
   "cell_type": "markdown",
   "id": "d54691d1",
   "metadata": {},
   "source": [
    "https://drive.google.com/drive/folders/11FXqc7FYXmGo9Mi46NtBmXm6zai53_jn"
   ]
  },
  {
   "cell_type": "markdown",
   "id": "6fdac982",
   "metadata": {},
   "source": [
    "# Go to above link and download all the file and put them into raw_data folder "
   ]
  },
  {
   "cell_type": "markdown",
   "id": "bdebf8a1",
   "metadata": {},
   "source": [
    "# Importing local .py file in notebook"
   ]
  },
  {
   "cell_type": "code",
   "execution_count": null,
   "id": "083c6daf",
   "metadata": {},
   "outputs": [],
   "source": [
    "#!python3 dashboard/__init__.py\n",
    "%load_ext autoreload\n",
    "%autoreload 2"
   ]
  },
  {
   "cell_type": "markdown",
   "id": "48311241",
   "metadata": {},
   "source": [
    "# Importing the module"
   ]
  },
  {
   "cell_type": "code",
   "execution_count": 1,
   "id": "499f325e",
   "metadata": {},
   "outputs": [],
   "source": [
    "import yaml\n",
    "import pandas as pd\n",
    "import numpy as np \n",
    "import seaborn as sns"
   ]
  },
  {
   "cell_type": "code",
   "execution_count": 2,
   "id": "ce04a5b2",
   "metadata": {},
   "outputs": [],
   "source": [
    "from sklearn.linear_model import LogisticRegression\n",
    "# importing library for support vector machine classifier\n",
    "from sklearn.svm import SVC\n",
    "# importing library for K-neares-neighbor classifier\n",
    "from sklearn.neighbors import KNeighborsClassifier\n",
    "#import xgboost\n",
    "from sklearn.ensemble import ExtraTreesClassifier\n",
    "from sklearn.feature_selection import chi2\n",
    "from sklearn.feature_selection import SelectKBest\n",
    "from sklearn.preprocessing import LabelEncoder\n",
    "import matplotlib.pyplot as plt"
   ]
  },
  {
   "cell_type": "code",
   "execution_count": 3,
   "id": "0423f8f1",
   "metadata": {},
   "outputs": [],
   "source": [
    "##This packages are written by own in .py file inside dashboard\n",
    "from dashboard import change_label\n",
    "from dashboard.modeling import standardization, encode_dataframe\n",
    "from dashboard import Visualization\n",
    "from dashboard import DataInformation\n",
    "from dashboard import show_result"
   ]
  },
  {
   "cell_type": "markdown",
   "id": "c6cc9765",
   "metadata": {},
   "source": [
    "# Reading config.yaml file "
   ]
  },
  {
   "cell_type": "code",
   "execution_count": 4,
   "id": "6db64802",
   "metadata": {},
   "outputs": [],
   "source": [
    "with open(\"config.yaml\", \"r\") as stream:\n",
    "    cl = yaml.safe_load(stream)"
   ]
  },
  {
   "cell_type": "code",
   "execution_count": 5,
   "id": "7920c013",
   "metadata": {},
   "outputs": [],
   "source": [
    "train = cl['train']\n",
    "feature = cl['feature']\n",
    "test = cl['test']\n",
    "test21 = cl['test21']\n",
    "model_path = cl['model_path']\n",
    "encoder_path = cl['encoder_path']\n",
    "scaler_path = cl['scaler_path']"
   ]
  },
  {
   "cell_type": "markdown",
   "id": "e94144a5",
   "metadata": {},
   "source": [
    "# Reading Dataset using pandas "
   ]
  },
  {
   "cell_type": "markdown",
   "id": "0c6b7b7c",
   "metadata": {},
   "source": [
    "Have you ever wondered how your computer/network is able to avoid being infected with malware and bad traffic inputs from the internet? The reason why it can detect it so well is because there are systems in place to protect your valuable information held in your computer or networks. These systems that detect malicious traffic inputs are called Intrusion Detection Systems (IDS) and are trained on internet traffic record data. The most common data set is the NSL-KDD, and is the benchmark for modern-day internet traffic.\n",
    "\n",
    "This data set is comprised of four sub data sets: KDDTest+, KDDTest-21, KDDTrain+, KDDTrain+_20Percent, although KDDTest-21 and KDDTrain+_20Percent are subsets of the KDDTrain+ and KDDTest+. From now on, KDDTrain+ will be referred to as train and KDDTest+ will be referred to as test. The KDDTest-21 is a subset of test, without the most difficult traffic records (Score of 21), and the KDDTrain+_20Percent is a subset of train, whose record count makes up 20% of the entire train dataset. That being said, the traffic records that exist in the KDDTest-21 and KDDTrain+_20Percent are already in test and train respectively and aren’t new records held out of either dataset.\n",
    "\n",
    "These data sets contain the records of the internet traffic seen by a simple intrusion detection network and are the ghosts of the traffic encountered by a real IDS and just the traces of its existence remains. The data set contains 43 features per record, with 41 of the features referring to the traffic input itself and the last two are labels (whether it is a normal or attack) and Score (the severity of the traffic input itself)."
   ]
  },
  {
   "cell_type": "code",
   "execution_count": 6,
   "id": "3fa27654",
   "metadata": {},
   "outputs": [],
   "source": [
    "train_data=pd.read_csv(train,names=feature)\n",
    "test_data=pd.read_csv(test,names=feature)\n",
    "test_21 = pd.read_csv(test21, names= feature)"
   ]
  },
  {
   "cell_type": "code",
   "execution_count": 7,
   "id": "1f282adf",
   "metadata": {},
   "outputs": [
    {
     "data": {
      "text/html": [
       "<div>\n",
       "<style scoped>\n",
       "    .dataframe tbody tr th:only-of-type {\n",
       "        vertical-align: middle;\n",
       "    }\n",
       "\n",
       "    .dataframe tbody tr th {\n",
       "        vertical-align: top;\n",
       "    }\n",
       "\n",
       "    .dataframe thead th {\n",
       "        text-align: right;\n",
       "    }\n",
       "</style>\n",
       "<table border=\"1\" class=\"dataframe\">\n",
       "  <thead>\n",
       "    <tr style=\"text-align: right;\">\n",
       "      <th></th>\n",
       "      <th>duration</th>\n",
       "      <th>protocol_type</th>\n",
       "      <th>service</th>\n",
       "      <th>flag</th>\n",
       "      <th>src_bytes</th>\n",
       "      <th>dst_bytes</th>\n",
       "      <th>land</th>\n",
       "      <th>wrong_fragment</th>\n",
       "      <th>urgent</th>\n",
       "      <th>hot</th>\n",
       "      <th>...</th>\n",
       "      <th>dst_host_same_srv_rate</th>\n",
       "      <th>dst_host_diff_srv_rate</th>\n",
       "      <th>dst_host_same_src_port_rate</th>\n",
       "      <th>dst_host_srv_diff_host_rate</th>\n",
       "      <th>dst_host_serror_rate</th>\n",
       "      <th>dst_host_srv_serror_rate</th>\n",
       "      <th>dst_host_rerror_rate</th>\n",
       "      <th>dst_host_srv_rerror_rate</th>\n",
       "      <th>label</th>\n",
       "      <th>difficulty</th>\n",
       "    </tr>\n",
       "  </thead>\n",
       "  <tbody>\n",
       "    <tr>\n",
       "      <th>0</th>\n",
       "      <td>0</td>\n",
       "      <td>tcp</td>\n",
       "      <td>ftp_data</td>\n",
       "      <td>SF</td>\n",
       "      <td>491</td>\n",
       "      <td>0</td>\n",
       "      <td>0</td>\n",
       "      <td>0</td>\n",
       "      <td>0</td>\n",
       "      <td>0</td>\n",
       "      <td>...</td>\n",
       "      <td>0.17</td>\n",
       "      <td>0.03</td>\n",
       "      <td>0.17</td>\n",
       "      <td>0.00</td>\n",
       "      <td>0.00</td>\n",
       "      <td>0.00</td>\n",
       "      <td>0.05</td>\n",
       "      <td>0.00</td>\n",
       "      <td>normal</td>\n",
       "      <td>20</td>\n",
       "    </tr>\n",
       "    <tr>\n",
       "      <th>1</th>\n",
       "      <td>0</td>\n",
       "      <td>udp</td>\n",
       "      <td>other</td>\n",
       "      <td>SF</td>\n",
       "      <td>146</td>\n",
       "      <td>0</td>\n",
       "      <td>0</td>\n",
       "      <td>0</td>\n",
       "      <td>0</td>\n",
       "      <td>0</td>\n",
       "      <td>...</td>\n",
       "      <td>0.00</td>\n",
       "      <td>0.60</td>\n",
       "      <td>0.88</td>\n",
       "      <td>0.00</td>\n",
       "      <td>0.00</td>\n",
       "      <td>0.00</td>\n",
       "      <td>0.00</td>\n",
       "      <td>0.00</td>\n",
       "      <td>normal</td>\n",
       "      <td>15</td>\n",
       "    </tr>\n",
       "    <tr>\n",
       "      <th>2</th>\n",
       "      <td>0</td>\n",
       "      <td>tcp</td>\n",
       "      <td>private</td>\n",
       "      <td>S0</td>\n",
       "      <td>0</td>\n",
       "      <td>0</td>\n",
       "      <td>0</td>\n",
       "      <td>0</td>\n",
       "      <td>0</td>\n",
       "      <td>0</td>\n",
       "      <td>...</td>\n",
       "      <td>0.10</td>\n",
       "      <td>0.05</td>\n",
       "      <td>0.00</td>\n",
       "      <td>0.00</td>\n",
       "      <td>1.00</td>\n",
       "      <td>1.00</td>\n",
       "      <td>0.00</td>\n",
       "      <td>0.00</td>\n",
       "      <td>neptune</td>\n",
       "      <td>19</td>\n",
       "    </tr>\n",
       "    <tr>\n",
       "      <th>3</th>\n",
       "      <td>0</td>\n",
       "      <td>tcp</td>\n",
       "      <td>http</td>\n",
       "      <td>SF</td>\n",
       "      <td>232</td>\n",
       "      <td>8153</td>\n",
       "      <td>0</td>\n",
       "      <td>0</td>\n",
       "      <td>0</td>\n",
       "      <td>0</td>\n",
       "      <td>...</td>\n",
       "      <td>1.00</td>\n",
       "      <td>0.00</td>\n",
       "      <td>0.03</td>\n",
       "      <td>0.04</td>\n",
       "      <td>0.03</td>\n",
       "      <td>0.01</td>\n",
       "      <td>0.00</td>\n",
       "      <td>0.01</td>\n",
       "      <td>normal</td>\n",
       "      <td>21</td>\n",
       "    </tr>\n",
       "    <tr>\n",
       "      <th>4</th>\n",
       "      <td>0</td>\n",
       "      <td>tcp</td>\n",
       "      <td>http</td>\n",
       "      <td>SF</td>\n",
       "      <td>199</td>\n",
       "      <td>420</td>\n",
       "      <td>0</td>\n",
       "      <td>0</td>\n",
       "      <td>0</td>\n",
       "      <td>0</td>\n",
       "      <td>...</td>\n",
       "      <td>1.00</td>\n",
       "      <td>0.00</td>\n",
       "      <td>0.00</td>\n",
       "      <td>0.00</td>\n",
       "      <td>0.00</td>\n",
       "      <td>0.00</td>\n",
       "      <td>0.00</td>\n",
       "      <td>0.00</td>\n",
       "      <td>normal</td>\n",
       "      <td>21</td>\n",
       "    </tr>\n",
       "  </tbody>\n",
       "</table>\n",
       "<p>5 rows × 43 columns</p>\n",
       "</div>"
      ],
      "text/plain": [
       "   duration protocol_type   service flag  src_bytes  dst_bytes  land  \\\n",
       "0         0           tcp  ftp_data   SF        491          0     0   \n",
       "1         0           udp     other   SF        146          0     0   \n",
       "2         0           tcp   private   S0          0          0     0   \n",
       "3         0           tcp      http   SF        232       8153     0   \n",
       "4         0           tcp      http   SF        199        420     0   \n",
       "\n",
       "   wrong_fragment  urgent  hot  ...  dst_host_same_srv_rate  \\\n",
       "0               0       0    0  ...                    0.17   \n",
       "1               0       0    0  ...                    0.00   \n",
       "2               0       0    0  ...                    0.10   \n",
       "3               0       0    0  ...                    1.00   \n",
       "4               0       0    0  ...                    1.00   \n",
       "\n",
       "   dst_host_diff_srv_rate  dst_host_same_src_port_rate  \\\n",
       "0                    0.03                         0.17   \n",
       "1                    0.60                         0.88   \n",
       "2                    0.05                         0.00   \n",
       "3                    0.00                         0.03   \n",
       "4                    0.00                         0.00   \n",
       "\n",
       "   dst_host_srv_diff_host_rate  dst_host_serror_rate  \\\n",
       "0                         0.00                  0.00   \n",
       "1                         0.00                  0.00   \n",
       "2                         0.00                  1.00   \n",
       "3                         0.04                  0.03   \n",
       "4                         0.00                  0.00   \n",
       "\n",
       "   dst_host_srv_serror_rate  dst_host_rerror_rate  dst_host_srv_rerror_rate  \\\n",
       "0                      0.00                  0.05                      0.00   \n",
       "1                      0.00                  0.00                      0.00   \n",
       "2                      1.00                  0.00                      0.00   \n",
       "3                      0.01                  0.00                      0.01   \n",
       "4                      0.00                  0.00                      0.00   \n",
       "\n",
       "     label  difficulty  \n",
       "0   normal          20  \n",
       "1   normal          15  \n",
       "2  neptune          19  \n",
       "3   normal          21  \n",
       "4   normal          21  \n",
       "\n",
       "[5 rows x 43 columns]"
      ]
     },
     "execution_count": 7,
     "metadata": {},
     "output_type": "execute_result"
    }
   ],
   "source": [
    "train_data.head()"
   ]
  },
  {
   "cell_type": "code",
   "execution_count": 9,
   "id": "5174ad56",
   "metadata": {},
   "outputs": [],
   "source": [
    "test_data=pd.read_csv(test,names=feature)\n",
    "test_data_csv = pd.read_csv('./raw_data/final_test_data.csv')\n",
    "#test_data_csv = test_data_csv.drop([\"Unnamed: 0\"], axis = 1)"
   ]
  },
  {
   "cell_type": "code",
   "execution_count": 10,
   "id": "1036f7be",
   "metadata": {},
   "outputs": [
    {
     "data": {
      "text/plain": [
       "Index(['duration', 'protocol_type', 'service', 'flag', 'src_bytes',\n",
       "       'dst_bytes', 'land', 'wrong_fragment', 'urgent', 'hot',\n",
       "       'num_failed_logins', 'logged_in', 'num_compromised', 'root_shell',\n",
       "       'su_attempted', 'num_root', 'num_file_creations', 'num_shells',\n",
       "       'num_access_files', 'num_outbound_cmds', 'is_host_login',\n",
       "       'is_guest_login', 'count', 'srv_count', 'serror_rate',\n",
       "       'srv_serror_rate', 'rerror_rate', 'srv_rerror_rate', 'same_srv_rate',\n",
       "       'diff_srv_rate', 'srv_diff_host_rate', 'dst_host_count',\n",
       "       'dst_host_srv_count', 'dst_host_same_srv_rate',\n",
       "       'dst_host_diff_srv_rate', 'dst_host_same_src_port_rate',\n",
       "       'dst_host_srv_diff_host_rate', 'dst_host_serror_rate',\n",
       "       'dst_host_srv_serror_rate', 'dst_host_rerror_rate',\n",
       "       'dst_host_srv_rerror_rate', 'label', 'difficulty'],\n",
       "      dtype='object')"
      ]
     },
     "execution_count": 10,
     "metadata": {},
     "output_type": "execute_result"
    }
   ],
   "source": [
    "train_data.columns"
   ]
  },
  {
   "cell_type": "code",
   "execution_count": 11,
   "id": "697a6da2",
   "metadata": {},
   "outputs": [],
   "source": [
    "test_data_csv.to_csv('./raw_data/final_test_data.csv', index = False)"
   ]
  },
  {
   "cell_type": "code",
   "execution_count": 12,
   "id": "d160a474",
   "metadata": {},
   "outputs": [
    {
     "data": {
      "text/plain": [
       "43"
      ]
     },
     "execution_count": 12,
     "metadata": {},
     "output_type": "execute_result"
    }
   ],
   "source": [
    "len(train_data.columns)"
   ]
  },
  {
   "cell_type": "code",
   "execution_count": 13,
   "id": "c522b43a",
   "metadata": {},
   "outputs": [
    {
     "data": {
      "text/plain": [
       "41"
      ]
     },
     "execution_count": 13,
     "metadata": {},
     "output_type": "execute_result"
    }
   ],
   "source": [
    "len(test_data_csv.columns)"
   ]
  },
  {
   "cell_type": "code",
   "execution_count": 14,
   "id": "ea746c6d",
   "metadata": {},
   "outputs": [],
   "source": [
    "train_info = DataInformation(train_data) ## Creating the object of datainformation class\n"
   ]
  },
  {
   "cell_type": "code",
   "execution_count": 15,
   "id": "3f373d06",
   "metadata": {},
   "outputs": [],
   "source": [
    "test_info = DataInformation(test_data)"
   ]
  },
  {
   "cell_type": "code",
   "execution_count": 16,
   "id": "15a58791",
   "metadata": {},
   "outputs": [
    {
     "data": {
      "text/html": [
       "<div>\n",
       "<style scoped>\n",
       "    .dataframe tbody tr th:only-of-type {\n",
       "        vertical-align: middle;\n",
       "    }\n",
       "\n",
       "    .dataframe tbody tr th {\n",
       "        vertical-align: top;\n",
       "    }\n",
       "\n",
       "    .dataframe thead th {\n",
       "        text-align: right;\n",
       "    }\n",
       "</style>\n",
       "<table border=\"1\" class=\"dataframe\">\n",
       "  <thead>\n",
       "    <tr style=\"text-align: right;\">\n",
       "      <th></th>\n",
       "      <th>duration</th>\n",
       "      <th>protocol_type</th>\n",
       "      <th>service</th>\n",
       "      <th>flag</th>\n",
       "      <th>src_bytes</th>\n",
       "      <th>dst_bytes</th>\n",
       "      <th>land</th>\n",
       "      <th>wrong_fragment</th>\n",
       "      <th>urgent</th>\n",
       "      <th>hot</th>\n",
       "      <th>...</th>\n",
       "      <th>dst_host_same_srv_rate</th>\n",
       "      <th>dst_host_diff_srv_rate</th>\n",
       "      <th>dst_host_same_src_port_rate</th>\n",
       "      <th>dst_host_srv_diff_host_rate</th>\n",
       "      <th>dst_host_serror_rate</th>\n",
       "      <th>dst_host_srv_serror_rate</th>\n",
       "      <th>dst_host_rerror_rate</th>\n",
       "      <th>dst_host_srv_rerror_rate</th>\n",
       "      <th>label</th>\n",
       "      <th>difficulty</th>\n",
       "    </tr>\n",
       "  </thead>\n",
       "  <tbody>\n",
       "    <tr>\n",
       "      <th>0</th>\n",
       "      <td>0</td>\n",
       "      <td>tcp</td>\n",
       "      <td>ftp_data</td>\n",
       "      <td>SF</td>\n",
       "      <td>491</td>\n",
       "      <td>0</td>\n",
       "      <td>0</td>\n",
       "      <td>0</td>\n",
       "      <td>0</td>\n",
       "      <td>0</td>\n",
       "      <td>...</td>\n",
       "      <td>0.17</td>\n",
       "      <td>0.03</td>\n",
       "      <td>0.17</td>\n",
       "      <td>0.00</td>\n",
       "      <td>0.00</td>\n",
       "      <td>0.00</td>\n",
       "      <td>0.05</td>\n",
       "      <td>0.00</td>\n",
       "      <td>normal</td>\n",
       "      <td>20</td>\n",
       "    </tr>\n",
       "    <tr>\n",
       "      <th>1</th>\n",
       "      <td>0</td>\n",
       "      <td>udp</td>\n",
       "      <td>other</td>\n",
       "      <td>SF</td>\n",
       "      <td>146</td>\n",
       "      <td>0</td>\n",
       "      <td>0</td>\n",
       "      <td>0</td>\n",
       "      <td>0</td>\n",
       "      <td>0</td>\n",
       "      <td>...</td>\n",
       "      <td>0.00</td>\n",
       "      <td>0.60</td>\n",
       "      <td>0.88</td>\n",
       "      <td>0.00</td>\n",
       "      <td>0.00</td>\n",
       "      <td>0.00</td>\n",
       "      <td>0.00</td>\n",
       "      <td>0.00</td>\n",
       "      <td>normal</td>\n",
       "      <td>15</td>\n",
       "    </tr>\n",
       "    <tr>\n",
       "      <th>2</th>\n",
       "      <td>0</td>\n",
       "      <td>tcp</td>\n",
       "      <td>private</td>\n",
       "      <td>S0</td>\n",
       "      <td>0</td>\n",
       "      <td>0</td>\n",
       "      <td>0</td>\n",
       "      <td>0</td>\n",
       "      <td>0</td>\n",
       "      <td>0</td>\n",
       "      <td>...</td>\n",
       "      <td>0.10</td>\n",
       "      <td>0.05</td>\n",
       "      <td>0.00</td>\n",
       "      <td>0.00</td>\n",
       "      <td>1.00</td>\n",
       "      <td>1.00</td>\n",
       "      <td>0.00</td>\n",
       "      <td>0.00</td>\n",
       "      <td>neptune</td>\n",
       "      <td>19</td>\n",
       "    </tr>\n",
       "    <tr>\n",
       "      <th>3</th>\n",
       "      <td>0</td>\n",
       "      <td>tcp</td>\n",
       "      <td>http</td>\n",
       "      <td>SF</td>\n",
       "      <td>232</td>\n",
       "      <td>8153</td>\n",
       "      <td>0</td>\n",
       "      <td>0</td>\n",
       "      <td>0</td>\n",
       "      <td>0</td>\n",
       "      <td>...</td>\n",
       "      <td>1.00</td>\n",
       "      <td>0.00</td>\n",
       "      <td>0.03</td>\n",
       "      <td>0.04</td>\n",
       "      <td>0.03</td>\n",
       "      <td>0.01</td>\n",
       "      <td>0.00</td>\n",
       "      <td>0.01</td>\n",
       "      <td>normal</td>\n",
       "      <td>21</td>\n",
       "    </tr>\n",
       "    <tr>\n",
       "      <th>4</th>\n",
       "      <td>0</td>\n",
       "      <td>tcp</td>\n",
       "      <td>http</td>\n",
       "      <td>SF</td>\n",
       "      <td>199</td>\n",
       "      <td>420</td>\n",
       "      <td>0</td>\n",
       "      <td>0</td>\n",
       "      <td>0</td>\n",
       "      <td>0</td>\n",
       "      <td>...</td>\n",
       "      <td>1.00</td>\n",
       "      <td>0.00</td>\n",
       "      <td>0.00</td>\n",
       "      <td>0.00</td>\n",
       "      <td>0.00</td>\n",
       "      <td>0.00</td>\n",
       "      <td>0.00</td>\n",
       "      <td>0.00</td>\n",
       "      <td>normal</td>\n",
       "      <td>21</td>\n",
       "    </tr>\n",
       "    <tr>\n",
       "      <th>5</th>\n",
       "      <td>0</td>\n",
       "      <td>tcp</td>\n",
       "      <td>private</td>\n",
       "      <td>REJ</td>\n",
       "      <td>0</td>\n",
       "      <td>0</td>\n",
       "      <td>0</td>\n",
       "      <td>0</td>\n",
       "      <td>0</td>\n",
       "      <td>0</td>\n",
       "      <td>...</td>\n",
       "      <td>0.07</td>\n",
       "      <td>0.07</td>\n",
       "      <td>0.00</td>\n",
       "      <td>0.00</td>\n",
       "      <td>0.00</td>\n",
       "      <td>0.00</td>\n",
       "      <td>1.00</td>\n",
       "      <td>1.00</td>\n",
       "      <td>neptune</td>\n",
       "      <td>21</td>\n",
       "    </tr>\n",
       "    <tr>\n",
       "      <th>6</th>\n",
       "      <td>0</td>\n",
       "      <td>tcp</td>\n",
       "      <td>private</td>\n",
       "      <td>S0</td>\n",
       "      <td>0</td>\n",
       "      <td>0</td>\n",
       "      <td>0</td>\n",
       "      <td>0</td>\n",
       "      <td>0</td>\n",
       "      <td>0</td>\n",
       "      <td>...</td>\n",
       "      <td>0.04</td>\n",
       "      <td>0.05</td>\n",
       "      <td>0.00</td>\n",
       "      <td>0.00</td>\n",
       "      <td>1.00</td>\n",
       "      <td>1.00</td>\n",
       "      <td>0.00</td>\n",
       "      <td>0.00</td>\n",
       "      <td>neptune</td>\n",
       "      <td>21</td>\n",
       "    </tr>\n",
       "    <tr>\n",
       "      <th>7</th>\n",
       "      <td>0</td>\n",
       "      <td>tcp</td>\n",
       "      <td>private</td>\n",
       "      <td>S0</td>\n",
       "      <td>0</td>\n",
       "      <td>0</td>\n",
       "      <td>0</td>\n",
       "      <td>0</td>\n",
       "      <td>0</td>\n",
       "      <td>0</td>\n",
       "      <td>...</td>\n",
       "      <td>0.06</td>\n",
       "      <td>0.07</td>\n",
       "      <td>0.00</td>\n",
       "      <td>0.00</td>\n",
       "      <td>1.00</td>\n",
       "      <td>1.00</td>\n",
       "      <td>0.00</td>\n",
       "      <td>0.00</td>\n",
       "      <td>neptune</td>\n",
       "      <td>21</td>\n",
       "    </tr>\n",
       "    <tr>\n",
       "      <th>8</th>\n",
       "      <td>0</td>\n",
       "      <td>tcp</td>\n",
       "      <td>remote_job</td>\n",
       "      <td>S0</td>\n",
       "      <td>0</td>\n",
       "      <td>0</td>\n",
       "      <td>0</td>\n",
       "      <td>0</td>\n",
       "      <td>0</td>\n",
       "      <td>0</td>\n",
       "      <td>...</td>\n",
       "      <td>0.09</td>\n",
       "      <td>0.05</td>\n",
       "      <td>0.00</td>\n",
       "      <td>0.00</td>\n",
       "      <td>1.00</td>\n",
       "      <td>1.00</td>\n",
       "      <td>0.00</td>\n",
       "      <td>0.00</td>\n",
       "      <td>neptune</td>\n",
       "      <td>21</td>\n",
       "    </tr>\n",
       "    <tr>\n",
       "      <th>9</th>\n",
       "      <td>0</td>\n",
       "      <td>tcp</td>\n",
       "      <td>private</td>\n",
       "      <td>S0</td>\n",
       "      <td>0</td>\n",
       "      <td>0</td>\n",
       "      <td>0</td>\n",
       "      <td>0</td>\n",
       "      <td>0</td>\n",
       "      <td>0</td>\n",
       "      <td>...</td>\n",
       "      <td>0.05</td>\n",
       "      <td>0.06</td>\n",
       "      <td>0.00</td>\n",
       "      <td>0.00</td>\n",
       "      <td>1.00</td>\n",
       "      <td>1.00</td>\n",
       "      <td>0.00</td>\n",
       "      <td>0.00</td>\n",
       "      <td>neptune</td>\n",
       "      <td>21</td>\n",
       "    </tr>\n",
       "    <tr>\n",
       "      <th>10</th>\n",
       "      <td>0</td>\n",
       "      <td>tcp</td>\n",
       "      <td>private</td>\n",
       "      <td>REJ</td>\n",
       "      <td>0</td>\n",
       "      <td>0</td>\n",
       "      <td>0</td>\n",
       "      <td>0</td>\n",
       "      <td>0</td>\n",
       "      <td>0</td>\n",
       "      <td>...</td>\n",
       "      <td>0.05</td>\n",
       "      <td>0.07</td>\n",
       "      <td>0.00</td>\n",
       "      <td>0.00</td>\n",
       "      <td>0.00</td>\n",
       "      <td>0.00</td>\n",
       "      <td>1.00</td>\n",
       "      <td>1.00</td>\n",
       "      <td>neptune</td>\n",
       "      <td>21</td>\n",
       "    </tr>\n",
       "    <tr>\n",
       "      <th>11</th>\n",
       "      <td>0</td>\n",
       "      <td>tcp</td>\n",
       "      <td>private</td>\n",
       "      <td>S0</td>\n",
       "      <td>0</td>\n",
       "      <td>0</td>\n",
       "      <td>0</td>\n",
       "      <td>0</td>\n",
       "      <td>0</td>\n",
       "      <td>0</td>\n",
       "      <td>...</td>\n",
       "      <td>0.05</td>\n",
       "      <td>0.07</td>\n",
       "      <td>0.00</td>\n",
       "      <td>0.00</td>\n",
       "      <td>1.00</td>\n",
       "      <td>1.00</td>\n",
       "      <td>0.00</td>\n",
       "      <td>0.00</td>\n",
       "      <td>neptune</td>\n",
       "      <td>21</td>\n",
       "    </tr>\n",
       "  </tbody>\n",
       "</table>\n",
       "<p>12 rows × 43 columns</p>\n",
       "</div>"
      ],
      "text/plain": [
       "    duration protocol_type     service flag  src_bytes  dst_bytes  land  \\\n",
       "0          0           tcp    ftp_data   SF        491          0     0   \n",
       "1          0           udp       other   SF        146          0     0   \n",
       "2          0           tcp     private   S0          0          0     0   \n",
       "3          0           tcp        http   SF        232       8153     0   \n",
       "4          0           tcp        http   SF        199        420     0   \n",
       "5          0           tcp     private  REJ          0          0     0   \n",
       "6          0           tcp     private   S0          0          0     0   \n",
       "7          0           tcp     private   S0          0          0     0   \n",
       "8          0           tcp  remote_job   S0          0          0     0   \n",
       "9          0           tcp     private   S0          0          0     0   \n",
       "10         0           tcp     private  REJ          0          0     0   \n",
       "11         0           tcp     private   S0          0          0     0   \n",
       "\n",
       "    wrong_fragment  urgent  hot  ...  dst_host_same_srv_rate  \\\n",
       "0                0       0    0  ...                    0.17   \n",
       "1                0       0    0  ...                    0.00   \n",
       "2                0       0    0  ...                    0.10   \n",
       "3                0       0    0  ...                    1.00   \n",
       "4                0       0    0  ...                    1.00   \n",
       "5                0       0    0  ...                    0.07   \n",
       "6                0       0    0  ...                    0.04   \n",
       "7                0       0    0  ...                    0.06   \n",
       "8                0       0    0  ...                    0.09   \n",
       "9                0       0    0  ...                    0.05   \n",
       "10               0       0    0  ...                    0.05   \n",
       "11               0       0    0  ...                    0.05   \n",
       "\n",
       "    dst_host_diff_srv_rate  dst_host_same_src_port_rate  \\\n",
       "0                     0.03                         0.17   \n",
       "1                     0.60                         0.88   \n",
       "2                     0.05                         0.00   \n",
       "3                     0.00                         0.03   \n",
       "4                     0.00                         0.00   \n",
       "5                     0.07                         0.00   \n",
       "6                     0.05                         0.00   \n",
       "7                     0.07                         0.00   \n",
       "8                     0.05                         0.00   \n",
       "9                     0.06                         0.00   \n",
       "10                    0.07                         0.00   \n",
       "11                    0.07                         0.00   \n",
       "\n",
       "    dst_host_srv_diff_host_rate  dst_host_serror_rate  \\\n",
       "0                          0.00                  0.00   \n",
       "1                          0.00                  0.00   \n",
       "2                          0.00                  1.00   \n",
       "3                          0.04                  0.03   \n",
       "4                          0.00                  0.00   \n",
       "5                          0.00                  0.00   \n",
       "6                          0.00                  1.00   \n",
       "7                          0.00                  1.00   \n",
       "8                          0.00                  1.00   \n",
       "9                          0.00                  1.00   \n",
       "10                         0.00                  0.00   \n",
       "11                         0.00                  1.00   \n",
       "\n",
       "    dst_host_srv_serror_rate  dst_host_rerror_rate  dst_host_srv_rerror_rate  \\\n",
       "0                       0.00                  0.05                      0.00   \n",
       "1                       0.00                  0.00                      0.00   \n",
       "2                       1.00                  0.00                      0.00   \n",
       "3                       0.01                  0.00                      0.01   \n",
       "4                       0.00                  0.00                      0.00   \n",
       "5                       0.00                  1.00                      1.00   \n",
       "6                       1.00                  0.00                      0.00   \n",
       "7                       1.00                  0.00                      0.00   \n",
       "8                       1.00                  0.00                      0.00   \n",
       "9                       1.00                  0.00                      0.00   \n",
       "10                      0.00                  1.00                      1.00   \n",
       "11                      1.00                  0.00                      0.00   \n",
       "\n",
       "      label  difficulty  \n",
       "0    normal          20  \n",
       "1    normal          15  \n",
       "2   neptune          19  \n",
       "3    normal          21  \n",
       "4    normal          21  \n",
       "5   neptune          21  \n",
       "6   neptune          21  \n",
       "7   neptune          21  \n",
       "8   neptune          21  \n",
       "9   neptune          21  \n",
       "10  neptune          21  \n",
       "11  neptune          21  \n",
       "\n",
       "[12 rows x 43 columns]"
      ]
     },
     "execution_count": 16,
     "metadata": {},
     "output_type": "execute_result"
    }
   ],
   "source": [
    "train_info.get_dataset_head() ## looks of first 12 rows of data"
   ]
  },
  {
   "cell_type": "code",
   "execution_count": 17,
   "id": "8fa864c5",
   "metadata": {},
   "outputs": [
    {
     "name": "stdout",
     "output_type": "stream",
     "text": [
      "<class 'pandas.core.frame.DataFrame'>\n",
      "RangeIndex: 125973 entries, 0 to 125972\n",
      "Data columns (total 43 columns):\n",
      " #   Column                       Non-Null Count   Dtype  \n",
      "---  ------                       --------------   -----  \n",
      " 0   duration                     125973 non-null  int64  \n",
      " 1   protocol_type                125973 non-null  object \n",
      " 2   service                      125973 non-null  object \n",
      " 3   flag                         125973 non-null  object \n",
      " 4   src_bytes                    125973 non-null  int64  \n",
      " 5   dst_bytes                    125973 non-null  int64  \n",
      " 6   land                         125973 non-null  int64  \n",
      " 7   wrong_fragment               125973 non-null  int64  \n",
      " 8   urgent                       125973 non-null  int64  \n",
      " 9   hot                          125973 non-null  int64  \n",
      " 10  num_failed_logins            125973 non-null  int64  \n",
      " 11  logged_in                    125973 non-null  int64  \n",
      " 12  num_compromised              125973 non-null  int64  \n",
      " 13  root_shell                   125973 non-null  int64  \n",
      " 14  su_attempted                 125973 non-null  int64  \n",
      " 15  num_root                     125973 non-null  int64  \n",
      " 16  num_file_creations           125973 non-null  int64  \n",
      " 17  num_shells                   125973 non-null  int64  \n",
      " 18  num_access_files             125973 non-null  int64  \n",
      " 19  num_outbound_cmds            125973 non-null  int64  \n",
      " 20  is_host_login                125973 non-null  int64  \n",
      " 21  is_guest_login               125973 non-null  int64  \n",
      " 22  count                        125973 non-null  int64  \n",
      " 23  srv_count                    125973 non-null  int64  \n",
      " 24  serror_rate                  125973 non-null  float64\n",
      " 25  srv_serror_rate              125973 non-null  float64\n",
      " 26  rerror_rate                  125973 non-null  float64\n",
      " 27  srv_rerror_rate              125973 non-null  float64\n",
      " 28  same_srv_rate                125973 non-null  float64\n",
      " 29  diff_srv_rate                125973 non-null  float64\n",
      " 30  srv_diff_host_rate           125973 non-null  float64\n",
      " 31  dst_host_count               125973 non-null  int64  \n",
      " 32  dst_host_srv_count           125973 non-null  int64  \n",
      " 33  dst_host_same_srv_rate       125973 non-null  float64\n",
      " 34  dst_host_diff_srv_rate       125973 non-null  float64\n",
      " 35  dst_host_same_src_port_rate  125973 non-null  float64\n",
      " 36  dst_host_srv_diff_host_rate  125973 non-null  float64\n",
      " 37  dst_host_serror_rate         125973 non-null  float64\n",
      " 38  dst_host_srv_serror_rate     125973 non-null  float64\n",
      " 39  dst_host_rerror_rate         125973 non-null  float64\n",
      " 40  dst_host_srv_rerror_rate     125973 non-null  float64\n",
      " 41  label                        125973 non-null  object \n",
      " 42  difficulty                   125973 non-null  int64  \n",
      "dtypes: float64(15), int64(24), object(4)\n",
      "memory usage: 41.3+ MB\n"
     ]
    }
   ],
   "source": [
    "train_info.get_info() ## information of all column in dataset"
   ]
  },
  {
   "cell_type": "code",
   "execution_count": 18,
   "id": "efe89b83",
   "metadata": {},
   "outputs": [
    {
     "data": {
      "text/plain": [
       "normal             9711\n",
       "neptune            4657\n",
       "guess_passwd       1231\n",
       "mscan               996\n",
       "warezmaster         944\n",
       "apache2             737\n",
       "satan               735\n",
       "processtable        685\n",
       "smurf               665\n",
       "back                359\n",
       "snmpguess           331\n",
       "saint               319\n",
       "mailbomb            293\n",
       "snmpgetattack       178\n",
       "portsweep           157\n",
       "ipsweep             141\n",
       "httptunnel          133\n",
       "nmap                 73\n",
       "pod                  41\n",
       "buffer_overflow      20\n",
       "multihop             18\n",
       "named                17\n",
       "ps                   15\n",
       "sendmail             14\n",
       "rootkit              13\n",
       "xterm                13\n",
       "teardrop             12\n",
       "xlock                 9\n",
       "land                  7\n",
       "xsnoop                4\n",
       "ftp_write             3\n",
       "worm                  2\n",
       "loadmodule            2\n",
       "perl                  2\n",
       "sqlattack             2\n",
       "udpstorm              2\n",
       "phf                   2\n",
       "imap                  1\n",
       "Name: label, dtype: int64"
      ]
     },
     "execution_count": 18,
     "metadata": {},
     "output_type": "execute_result"
    }
   ],
   "source": [
    "train_info.check_data_imbalance() ## count of each label of dataset\n",
    "test_info.check_data_imbalance()"
   ]
  },
  {
   "cell_type": "code",
   "execution_count": 19,
   "id": "523e39d9",
   "metadata": {},
   "outputs": [],
   "source": [
    "## Drop the difficulty  colum "
   ]
  },
  {
   "cell_type": "code",
   "execution_count": 20,
   "id": "2f3d8c04",
   "metadata": {},
   "outputs": [],
   "source": [
    "train_data = train_info.drop_column(\"difficulty\")"
   ]
  },
  {
   "cell_type": "code",
   "execution_count": 21,
   "id": "d470e90b",
   "metadata": {},
   "outputs": [],
   "source": [
    "test_data = test_info.drop_column(\"difficulty\")"
   ]
  },
  {
   "cell_type": "markdown",
   "id": "55d48a75",
   "metadata": {},
   "source": [
    "# Data Analysis "
   ]
  },
  {
   "cell_type": "code",
   "execution_count": 22,
   "id": "0eb286c7",
   "metadata": {},
   "outputs": [],
   "source": [
    "train_viz = Visualization"
   ]
  },
  {
   "cell_type": "code",
   "execution_count": 23,
   "id": "4381c2af",
   "metadata": {},
   "outputs": [
    {
     "data": {
      "image/png": "[encoded data removed]",
      "text/plain": [
       "<Figure size 576x396 with 1 Axes>"
      ]
     },
     "metadata": {},
     "output_type": "display_data"
    }
   ],
   "source": [
    "train_viz.bar_graph(train_data, \"label\")"
   ]
  },
  {
   "cell_type": "markdown",
   "id": "c2ee3acb",
   "metadata": {},
   "source": [
    "Within the data set exists 4 different classes of attacks:\n",
    "\n",
    "Denial of Service (DoS)\n",
    "Probe\n",
    "User to Root(U2R)\n",
    "Remote to Local (R2L)"
   ]
  },
  {
   "cell_type": "markdown",
   "id": "bd54bfd9",
   "metadata": {},
   "source": [
    "DoS is an attack that tries to shut down traffic flow to and from the target system. The IDS is flooded with an abnormal amount of traffic, which the system can’t handle, and shuts down to protect itself. This prevents normal traffic from visiting a network. An example of this could be an online retailer getting flooded with online orders on a day with a big sale, and because the network can’t handle all the requests, it will shut down preventing paying customers to purchase anything. This is the most common attack in the data set.\n",
    "\n",
    "Probe or surveillance is an attack that tries to get information from a network. The goal here is to act like a thief and steal important information, whether it be personal information about clients or banking information.\n",
    "\n",
    "U2R is an attack that starts off with a normal user account and tries to gain access to the system or network, as a super-user (root). The attacker attempts to exploit the vulnerabilities in a system to gain root privileges/access.\n",
    "\n"
   ]
  },
  {
   "cell_type": "markdown",
   "id": "e425834e",
   "metadata": {},
   "source": [
    "R2L is an attack that tries to gain local access to a remote machine. An attacker does not have local access to the system/network, and tries to “hack” their way into the network.\n",
    "\n",
    "It is noticed from the descriptions above that DoS acts differently from the other three attacks, where DoS attempts to shut down a system to stop traffic flow altogether, whereas the other three attempts to quietly infiltrate the system undetected.\n",
    "\n",
    "In the table below, a breakdown of the different subclasses of each attack that exists in the data set is shown"
   ]
  },
  {
   "cell_type": "markdown",
   "id": "5a4ab10d",
   "metadata": {},
   "source": [
    "![simpleimage](raw_data/detail.png)"
   ]
  },
  {
   "cell_type": "code",
   "execution_count": 24,
   "id": "b2430135",
   "metadata": {},
   "outputs": [],
   "source": [
    "final_label_list = ['Dos','R2L','Probe','U2R']"
   ]
  },
  {
   "cell_type": "code",
   "execution_count": 25,
   "id": "b0059b9d",
   "metadata": {},
   "outputs": [],
   "source": [
    "for label in final_label_list:\n",
    "    change_label(test_data, cl[label], label)"
   ]
  },
  {
   "cell_type": "code",
   "execution_count": 26,
   "id": "26e44d2d",
   "metadata": {},
   "outputs": [],
   "source": [
    "for label in final_label_list:\n",
    "    change_label(train_data, cl[label], label)"
   ]
  },
  {
   "cell_type": "code",
   "execution_count": 27,
   "id": "adab402a",
   "metadata": {},
   "outputs": [
    {
     "data": {
      "text/plain": [
       "normal             67343\n",
       "neptune            41214\n",
       "satan               3633\n",
       "ipsweep             3599\n",
       "portsweep           2931\n",
       "smurf               2646\n",
       "nmap                1493\n",
       "back                 956\n",
       "teardrop             892\n",
       "warezclient          890\n",
       "pod                  201\n",
       "guess_passwd          53\n",
       "buffer_overflow       30\n",
       "warezmaster           20\n",
       "land                  18\n",
       "imap                  11\n",
       "rootkit               10\n",
       "loadmodule             9\n",
       "ftp_write              8\n",
       "multihop               7\n",
       "phf                    4\n",
       "perl                   3\n",
       "spy                    2\n",
       "Name: label, dtype: int64"
      ]
     },
     "execution_count": 27,
     "metadata": {},
     "output_type": "execute_result"
    }
   ],
   "source": [
    "train_info.check_data_imbalance() ## count of each label of dataset"
   ]
  },
  {
   "cell_type": "code",
   "execution_count": 28,
   "id": "e7611c24",
   "metadata": {},
   "outputs": [
    {
     "data": {
      "text/plain": [
       "array(['Dos', 'normal', 'Probe', 'R2L', 'U2R'], dtype=object)"
      ]
     },
     "execution_count": 28,
     "metadata": {},
     "output_type": "execute_result"
    }
   ],
   "source": [
    "train_data['label'].unique()\n",
    "test_data['label'].unique()"
   ]
  },
  {
   "cell_type": "markdown",
   "id": "2be24a76",
   "metadata": {},
   "source": [
    "Now there are 4 unique type of attract in label column. "
   ]
  },
  {
   "cell_type": "code",
   "execution_count": 29,
   "id": "73f3f923",
   "metadata": {},
   "outputs": [],
   "source": [
    "train_info_lc = DataInformation(train_data)"
   ]
  },
  {
   "cell_type": "code",
   "execution_count": 30,
   "id": "ed557158",
   "metadata": {},
   "outputs": [
    {
     "data": {
      "text/plain": [
       "normal    67343\n",
       "Dos       45927\n",
       "Probe     11656\n",
       "R2L         995\n",
       "U2R          52\n",
       "Name: label, dtype: int64"
      ]
     },
     "execution_count": 30,
     "metadata": {},
     "output_type": "execute_result"
    }
   ],
   "source": [
    "train_info_lc.check_data_imbalance()"
   ]
  },
  {
   "cell_type": "markdown",
   "id": "8ee02100",
   "metadata": {},
   "source": [
    "Data is highly imbalance so accuracy doesnot works to check the metric. we need to explore other materics."
   ]
  },
  {
   "cell_type": "markdown",
   "id": "bda2e308",
   "metadata": {},
   "source": [
    "# \\> Check How many categorical values are present in the dataset"
   ]
  },
  {
   "cell_type": "code",
   "execution_count": 31,
   "id": "dd108172",
   "metadata": {},
   "outputs": [
    {
     "data": {
      "text/plain": [
       "Index(['protocol_type', 'service', 'flag', 'label'], dtype='object')"
      ]
     },
     "execution_count": 31,
     "metadata": {},
     "output_type": "execute_result"
    }
   ],
   "source": [
    "train_info_lc.get_categorical_data_columns()"
   ]
  },
  {
   "cell_type": "code",
   "execution_count": 32,
   "id": "453263df",
   "metadata": {},
   "outputs": [
    {
     "data": {
      "image/png": "[encoded data removed]",
      "text/plain": [
       "<Figure size 576x396 with 1 Axes>"
      ]
     },
     "metadata": {},
     "output_type": "display_data"
    }
   ],
   "source": [
    "train_viz.bar_graph(train_data, \"label\")"
   ]
  },
  {
   "cell_type": "markdown",
   "id": "2d9e8c05",
   "metadata": {},
   "source": [
    "# Protocol\n",
    "Attribute No. : 2\n",
    "\n",
    "Attribute Name. : Protocol_type\n",
    "\n",
    "Description : Protocol used in the connection\n"
   ]
  },
  {
   "cell_type": "code",
   "execution_count": 33,
   "id": "7e3b1d20",
   "metadata": {},
   "outputs": [
    {
     "data": {
      "image/png": "[encoded data removed]",
      "text/plain": [
       "<Figure size 576x396 with 1 Axes>"
      ]
     },
     "metadata": {},
     "output_type": "display_data"
    }
   ],
   "source": [
    "train_viz.bar_graph(train_data,'protocol_type')"
   ]
  },
  {
   "cell_type": "code",
   "execution_count": 34,
   "id": "6fd07399",
   "metadata": {},
   "outputs": [
    {
     "data": {
      "text/plain": [
       "tcp     102689\n",
       "udp      14993\n",
       "icmp      8291\n",
       "Name: protocol_type, dtype: int64"
      ]
     },
     "execution_count": 34,
     "metadata": {},
     "output_type": "execute_result"
    }
   ],
   "source": [
    "train_data.protocol_type.value_counts()"
   ]
  },
  {
   "cell_type": "markdown",
   "id": "9638a56c",
   "metadata": {},
   "source": [
    "# Flag"
   ]
  },
  {
   "cell_type": "code",
   "execution_count": 35,
   "id": "09f626cf",
   "metadata": {},
   "outputs": [
    {
     "data": {
      "image/png": "[encoded data removed]",
      "text/plain": [
       "<Figure size 576x396 with 1 Axes>"
      ]
     },
     "metadata": {},
     "output_type": "display_data"
    }
   ],
   "source": [
    "train_viz.bar_graph(train_data,'flag')"
   ]
  },
  {
   "cell_type": "markdown",
   "id": "9668505b",
   "metadata": {},
   "source": [
    "\n",
    "# Services\n",
    "Attribute No. : 3\n",
    "\n",
    "Attribute Name. : Service\n",
    "\n",
    "Description : Destination network service used"
   ]
  },
  {
   "cell_type": "code",
   "execution_count": 36,
   "id": "d8c8fb22",
   "metadata": {},
   "outputs": [],
   "source": [
    "services_frequency = train_data['service'].value_counts()\n"
   ]
  },
  {
   "cell_type": "markdown",
   "id": "73e56fc9",
   "metadata": {},
   "source": [
    "# Duration\n",
    "Attribute No. : 1\n",
    "\n",
    "Attribute Name. : Duration\n",
    "\n",
    "Description : Length of time duration of the connection\n",
    "    Duration is the contineous value so we need to make is discreate so that the error while trainnig will me minimized \n",
    "    "
   ]
  },
  {
   "cell_type": "code",
   "execution_count": 37,
   "id": "f2a728df",
   "metadata": {},
   "outputs": [
    {
     "name": "stderr",
     "output_type": "stream",
     "text": [
      "C:\\anaconda\\lib\\site-packages\\seaborn\\distributions.py:2619: FutureWarning: `distplot` is a deprecated function and will be removed in a future version. Please adapt your code to use either `displot` (a figure-level function with similar flexibility) or `histplot` (an axes-level function for histograms).\n",
      "  warnings.warn(msg, FutureWarning)\n"
     ]
    },
    {
     "data": {
      "image/png": "[encoded data removed]",
      "text/plain": [
       "<Figure size 576x396 with 1 Axes>"
      ]
     },
     "metadata": {},
     "output_type": "display_data"
    }
   ],
   "source": [
    "\n",
    "df = train_data['duration']\n",
    "df = pd.DataFrame(df)\n",
    "data_feature = df.columns\n",
    "\n",
    "for feature in data_feature:\n",
    "    p = sns.distplot(a = df[feature])\n",
    "    plt.show()"
   ]
  },
  {
   "cell_type": "code",
   "execution_count": 38,
   "id": "5fa6ef56",
   "metadata": {},
   "outputs": [
    {
     "data": {
      "text/plain": [
       "0         0\n",
       "1         0\n",
       "2         0\n",
       "3         0\n",
       "4         0\n",
       "         ..\n",
       "125968    0\n",
       "125969    8\n",
       "125970    0\n",
       "125971    0\n",
       "125972    0\n",
       "Name: duration, Length: 125973, dtype: int64"
      ]
     },
     "execution_count": 38,
     "metadata": {},
     "output_type": "execute_result"
    }
   ],
   "source": [
    "train_data['duration']"
   ]
  },
  {
   "cell_type": "code",
   "execution_count": 39,
   "id": "1345264e",
   "metadata": {},
   "outputs": [
    {
     "data": {
      "text/html": [
       "<div>\n",
       "<style scoped>\n",
       "    .dataframe tbody tr th:only-of-type {\n",
       "        vertical-align: middle;\n",
       "    }\n",
       "\n",
       "    .dataframe tbody tr th {\n",
       "        vertical-align: top;\n",
       "    }\n",
       "\n",
       "    .dataframe thead th {\n",
       "        text-align: right;\n",
       "    }\n",
       "</style>\n",
       "<table border=\"1\" class=\"dataframe\">\n",
       "  <thead>\n",
       "    <tr style=\"text-align: right;\">\n",
       "      <th></th>\n",
       "      <th>duration</th>\n",
       "      <th>binned</th>\n",
       "    </tr>\n",
       "  </thead>\n",
       "  <tbody>\n",
       "    <tr>\n",
       "      <th>0</th>\n",
       "      <td>0</td>\n",
       "      <td>(-0.1, 0.0]</td>\n",
       "    </tr>\n",
       "    <tr>\n",
       "      <th>1</th>\n",
       "      <td>0</td>\n",
       "      <td>(-0.1, 0.0]</td>\n",
       "    </tr>\n",
       "    <tr>\n",
       "      <th>2</th>\n",
       "      <td>0</td>\n",
       "      <td>(-0.1, 0.0]</td>\n",
       "    </tr>\n",
       "    <tr>\n",
       "      <th>3</th>\n",
       "      <td>0</td>\n",
       "      <td>(-0.1, 0.0]</td>\n",
       "    </tr>\n",
       "    <tr>\n",
       "      <th>4</th>\n",
       "      <td>0</td>\n",
       "      <td>(-0.1, 0.0]</td>\n",
       "    </tr>\n",
       "  </tbody>\n",
       "</table>\n",
       "</div>"
      ],
      "text/plain": [
       "   duration       binned\n",
       "0         0  (-0.1, 0.0]\n",
       "1         0  (-0.1, 0.0]\n",
       "2         0  (-0.1, 0.0]\n",
       "3         0  (-0.1, 0.0]\n",
       "4         0  (-0.1, 0.0]"
      ]
     },
     "execution_count": 39,
     "metadata": {},
     "output_type": "execute_result"
    }
   ],
   "source": [
    "df['binned']=pd.cut(df['duration'], bins=[-0.1, 0 , 10000, 20000, 30000, 40000])\n",
    "df.head()"
   ]
  },
  {
   "cell_type": "code",
   "execution_count": 40,
   "id": "b4b5a50a",
   "metadata": {},
   "outputs": [
    {
     "data": {
      "text/html": [
       "<div>\n",
       "<style scoped>\n",
       "    .dataframe tbody tr th:only-of-type {\n",
       "        vertical-align: middle;\n",
       "    }\n",
       "\n",
       "    .dataframe tbody tr th {\n",
       "        vertical-align: top;\n",
       "    }\n",
       "\n",
       "    .dataframe thead th {\n",
       "        text-align: right;\n",
       "    }\n",
       "</style>\n",
       "<table border=\"1\" class=\"dataframe\">\n",
       "  <thead>\n",
       "    <tr style=\"text-align: right;\">\n",
       "      <th></th>\n",
       "      <th>duration</th>\n",
       "      <th>binned</th>\n",
       "      <th>duration_bin</th>\n",
       "    </tr>\n",
       "  </thead>\n",
       "  <tbody>\n",
       "    <tr>\n",
       "      <th>0</th>\n",
       "      <td>0</td>\n",
       "      <td>(-0.1, 0.0]</td>\n",
       "      <td>0</td>\n",
       "    </tr>\n",
       "    <tr>\n",
       "      <th>1</th>\n",
       "      <td>0</td>\n",
       "      <td>(-0.1, 0.0]</td>\n",
       "      <td>0</td>\n",
       "    </tr>\n",
       "    <tr>\n",
       "      <th>2</th>\n",
       "      <td>0</td>\n",
       "      <td>(-0.1, 0.0]</td>\n",
       "      <td>0</td>\n",
       "    </tr>\n",
       "    <tr>\n",
       "      <th>3</th>\n",
       "      <td>0</td>\n",
       "      <td>(-0.1, 0.0]</td>\n",
       "      <td>0</td>\n",
       "    </tr>\n",
       "    <tr>\n",
       "      <th>4</th>\n",
       "      <td>0</td>\n",
       "      <td>(-0.1, 0.0]</td>\n",
       "      <td>0</td>\n",
       "    </tr>\n",
       "    <tr>\n",
       "      <th>...</th>\n",
       "      <td>...</td>\n",
       "      <td>...</td>\n",
       "      <td>...</td>\n",
       "    </tr>\n",
       "    <tr>\n",
       "      <th>125968</th>\n",
       "      <td>0</td>\n",
       "      <td>(-0.1, 0.0]</td>\n",
       "      <td>0</td>\n",
       "    </tr>\n",
       "    <tr>\n",
       "      <th>125969</th>\n",
       "      <td>8</td>\n",
       "      <td>(0.0, 10000.0]</td>\n",
       "      <td>(0, 10000]</td>\n",
       "    </tr>\n",
       "    <tr>\n",
       "      <th>125970</th>\n",
       "      <td>0</td>\n",
       "      <td>(-0.1, 0.0]</td>\n",
       "      <td>0</td>\n",
       "    </tr>\n",
       "    <tr>\n",
       "      <th>125971</th>\n",
       "      <td>0</td>\n",
       "      <td>(-0.1, 0.0]</td>\n",
       "      <td>0</td>\n",
       "    </tr>\n",
       "    <tr>\n",
       "      <th>125972</th>\n",
       "      <td>0</td>\n",
       "      <td>(-0.1, 0.0]</td>\n",
       "      <td>0</td>\n",
       "    </tr>\n",
       "  </tbody>\n",
       "</table>\n",
       "<p>125973 rows × 3 columns</p>\n",
       "</div>"
      ],
      "text/plain": [
       "        duration          binned duration_bin\n",
       "0              0     (-0.1, 0.0]            0\n",
       "1              0     (-0.1, 0.0]            0\n",
       "2              0     (-0.1, 0.0]            0\n",
       "3              0     (-0.1, 0.0]            0\n",
       "4              0     (-0.1, 0.0]            0\n",
       "...          ...             ...          ...\n",
       "125968         0     (-0.1, 0.0]            0\n",
       "125969         8  (0.0, 10000.0]   (0, 10000]\n",
       "125970         0     (-0.1, 0.0]            0\n",
       "125971         0     (-0.1, 0.0]            0\n",
       "125972         0     (-0.1, 0.0]            0\n",
       "\n",
       "[125973 rows x 3 columns]"
      ]
     },
     "execution_count": 40,
     "metadata": {},
     "output_type": "execute_result"
    }
   ],
   "source": [
    "df['duration_bin']=pd.cut(df['duration'], bins=[-0.1, 0 , 10000, 20000, 30000, 40000], labels=[\"0\", \" (0, 10000]\", \"(10000, 20000]\",\"(20000, 30000]\", \"(30000, 40000]\"])\n",
    "df"
   ]
  },
  {
   "cell_type": "code",
   "execution_count": 41,
   "id": "c651a9dc",
   "metadata": {},
   "outputs": [
    {
     "data": {
      "text/plain": [
       "0                 115955\n",
       " (0, 10000]         8804\n",
       "(10000, 20000]       585\n",
       "(30000, 40000]       281\n",
       "(20000, 30000]       223\n",
       "Name: duration_bin, dtype: int64"
      ]
     },
     "execution_count": 41,
     "metadata": {},
     "output_type": "execute_result"
    }
   ],
   "source": [
    "duration_frequency = df['duration_bin'].value_counts()\n",
    "#subsetServices= list(duration_frequency[:].index)\n",
    "duration_frequency"
   ]
  },
  {
   "cell_type": "code",
   "execution_count": 42,
   "id": "bf812964",
   "metadata": {},
   "outputs": [
    {
     "data": {
      "text/plain": [
       "<matplotlib.legend.Legend at 0x282e424ec40>"
      ]
     },
     "execution_count": 42,
     "metadata": {},
     "output_type": "execute_result"
    },
    {
     "data": {
      "image/png": "[encoded data removed]",
      "text/plain": [
       "<Figure size 1080x720 with 1 Axes>"
      ]
     },
     "metadata": {},
     "output_type": "display_data"
    }
   ],
   "source": [
    "f, ax = plt.subplots(figsize=(15,10)) # set the size that you'd like (width, height)\n",
    "plt.bar(duration_frequency.index, duration_frequency, label = 'Duration frequency')\n",
    "ax.legend(fontsize = 20)"
   ]
  },
  {
   "cell_type": "code",
   "execution_count": null,
   "id": "988b187d",
   "metadata": {},
   "outputs": [],
   "source": [
    "object_type_column = ['protocol_type', 'service', 'flag', 'label']"
   ]
  },
  {
   "cell_type": "code",
   "execution_count": null,
   "id": "101c4a9e",
   "metadata": {},
   "outputs": [],
   "source": [
    "td_without_categorical = train_data.drop(object_type_column, axis=1)"
   ]
  },
  {
   "cell_type": "code",
   "execution_count": null,
   "id": "c90e6e01",
   "metadata": {},
   "outputs": [],
   "source": [
    "train_viz.plot_data_distribution(td_without_categorical)"
   ]
  },
  {
   "cell_type": "code",
   "execution_count": null,
   "id": "997816bf",
   "metadata": {},
   "outputs": [],
   "source": [
    "train_viz.plot_elbow_graph(td_without_categorical)"
   ]
  },
  {
   "cell_type": "markdown",
   "id": "0df8ceb4",
   "metadata": {},
   "source": [
    "# Data Prepration\n",
    "For Binary and Multi-class Classification\n",
    "------\n",
    "\n",
    "Label encoding with One-Hot\n",
    "---------\n",
    "\n",
    "Binary Classification\n",
    "----------\n",
    "\n",
    "bin_data_train -> ready dataframe for Modeling\n",
    "---------\n",
    "numeric_bin_data -> just numeric features for feature selection\n",
    "-------"
   ]
  },
  {
   "cell_type": "code",
   "execution_count": null,
   "id": "4718d560",
   "metadata": {},
   "outputs": [],
   "source": [
    "# changing attack labels into two categories 'normal' and 'abnormal'\n",
    "bin_label = pd.DataFrame(train_data.label.map(lambda x:'normal' if x=='normal' else 'abnormal'))\n",
    "bin_label"
   ]
  },
  {
   "cell_type": "code",
   "execution_count": null,
   "id": "8a1c4a3d",
   "metadata": {},
   "outputs": [],
   "source": [
    "# creating a dataframe with binary labels (normal,abnormal)\n",
    "bin_data = train_data.copy()\n",
    "bin_data['label'] = bin_label\n",
    "bin_data"
   ]
  },
  {
   "cell_type": "code",
   "execution_count": null,
   "id": "ced8eebe",
   "metadata": {},
   "outputs": [],
   "source": [
    "# label encoding (0,1) binary labels (abnormal,normal)\n",
    "\n",
    "le1 = LabelEncoder()\n",
    "enc_label = bin_label.apply(le1.fit_transform)\n",
    "bin_data['intrusion'] = enc_label\n",
    "bin_data"
   ]
  },
  {
   "cell_type": "code",
   "execution_count": null,
   "id": "03f86860",
   "metadata": {},
   "outputs": [],
   "source": [
    "# one-hot-encoding attack label\n",
    "#numeric_bin_data = pd.get_dummies(bin_data,columns=['label'],prefix=\"\",prefix_sep=\"\") \n",
    "bin_data = pd.get_dummies(train_data,columns=['protocol_type','service','flag'],prefix=\"\",prefix_sep=\"\") \n",
    "#bin_data['label'] = bin_label\n",
    "bin_data['intrusion'] = enc_label\n",
    "\n",
    "bin_data"
   ]
  },
  {
   "cell_type": "code",
   "execution_count": null,
   "id": "5c111524",
   "metadata": {},
   "outputs": [],
   "source": [
    "# pie chart distribution of normal and abnormal labels\n",
    "plt.figure(figsize=(8,8))\n",
    "plt.pie(bin_data.label.value_counts(),labels=bin_data.label.unique(),autopct='%0.2f%%')\n",
    "plt.title(\"Pie chart distribution of normal and abnormal labels\")\n",
    "plt.legend()\n",
    "plt.show()"
   ]
  },
  {
   "cell_type": "code",
   "execution_count": null,
   "id": "ba8499b7",
   "metadata": {},
   "outputs": [],
   "source": [
    "#bin_data_train is dataset that is ready for modeling ... X=bin_data_train[:,:122] / y=bin_data_train[:,:-1]\n",
    "bin_data_train = bin_data.copy()\n",
    "bin_data_train.drop(labels= [ 'label'], axis=1, inplace=True)\n",
    "bin_data_train\n"
   ]
  },
  {
   "cell_type": "code",
   "execution_count": null,
   "id": "2e3736e9",
   "metadata": {},
   "outputs": [],
   "source": [
    "# this data set is include just numeric features with multi labels \n",
    "#created for feature selection\n",
    "# creating a dataframe with only numeric attributes of binary class dataset and encoded label attribute \n",
    "numeric_col = train_data.select_dtypes(include='number').columns\n",
    "numeric_bin_data = train_data[numeric_col]\n",
    "numeric_bin_data['intrusion'] = bin_data['intrusion']"
   ]
  },
  {
   "cell_type": "code",
   "execution_count": null,
   "id": "567bef00",
   "metadata": {},
   "outputs": [],
   "source": [
    "numeric_bin_data"
   ]
  },
  {
   "cell_type": "markdown",
   "id": "5d81998d",
   "metadata": {},
   "source": [
    "# Multi-class Classification\n",
    "multi_data_train -> ready dataframe for Modeling\n",
    "--\n",
    "numeric_multi_data -> just numeric features for feature selection\n",
    "--"
   ]
  },
  {
   "cell_type": "code",
   "execution_count": null,
   "id": "c24ec47a",
   "metadata": {},
   "outputs": [],
   "source": [
    "# creating a dataframe with multi-class labels (Dos,Probe,R2L,U2R,normal)\n",
    "multi_data = train_data.copy()\n",
    "multi_label = pd.DataFrame(multi_data.label)\n",
    "multi_label\n",
    "len(multi_data.columns)"
   ]
  },
  {
   "cell_type": "code",
   "execution_count": null,
   "id": "f6d4d9ac",
   "metadata": {},
   "outputs": [],
   "source": [
    "# label encoding (0,1,2,3,4) multi-class labels (Dos,normal,Probe,R2L,U2R)\n",
    "le2 = LabelEncoder()\n",
    "enc_label = multi_label.apply(le2.fit_transform)\n",
    "multi_data['intrusion'] = enc_label\n",
    "#y_mul = multi_data['intrusion']\n",
    "multi_data"
   ]
  },
  {
   "cell_type": "code",
   "execution_count": null,
   "id": "3df60167",
   "metadata": {},
   "outputs": [],
   "source": [
    "# one-hot-encoding attack label\n",
    "\n",
    "multi_data = pd.get_dummies(multi_data,columns=['protocol_type','service','flag','label'],prefix=\"\",prefix_sep=\"\")  \n",
    "multi_data['label'] = multi_label\n",
    "multi_data"
   ]
  },
  {
   "cell_type": "code",
   "execution_count": null,
   "id": "2960e86b",
   "metadata": {},
   "outputs": [],
   "source": [
    "# multi_data_train is dataset that is ready for modeling ... X=bin_data_train[:,:122] / y=bin_data_train[:,:-5]\n",
    "multi_data_train = multi_data.copy()\n",
    "multi_data_train.drop(labels= [ 'label', 'intrusion' ], axis=1, inplace=True)\n",
    "multi_data_train"
   ]
  },
  {
   "cell_type": "code",
   "execution_count": null,
   "id": "e3697ae3",
   "metadata": {},
   "outputs": [],
   "source": [
    "# this data set is include just numeric features with multi labels \n",
    "#created for feature selection\n",
    "numeric_multi_data = train_data[numeric_col]\n",
    "numeric_multi_data['label'] = multi_label\n",
    "numeric_multi_data = pd.get_dummies(numeric_multi_data,columns=['label'],prefix=\"\",prefix_sep=\"\")\n",
    "numeric_multi_data"
   ]
  },
  {
   "cell_type": "markdown",
   "id": "02d3706e",
   "metadata": {},
   "source": [
    "# Feature Selection\n",
    "we do this because we prefer that train models with significant features and get reliable model to classify test set"
   ]
  },
  {
   "cell_type": "code",
   "execution_count": null,
   "id": "dd232429",
   "metadata": {},
   "outputs": [],
   "source": [
    "#num_dataset_bin is just include numeric features with binary labels\n",
    "num_dataset_bin = numeric_bin_data.copy()\n",
    "y_train_num_bin= num_dataset_bin[['intrusion']]\n",
    "X_train_num_bin= num_dataset_bin.drop(labels=['intrusion'], axis=1)\n",
    "\n",
    "print('X_train has shape:',X_train_num_bin.shape,'\\ny_train has shape:',y_train_num_bin.shape)"
   ]
  },
  {
   "cell_type": "code",
   "execution_count": null,
   "id": "c6518b65",
   "metadata": {},
   "outputs": [],
   "source": [
    "#dataset_bin is include hole features (with encoded non numeric features like services, protocol and flag) with binary labels\n",
    "dataset_bin = bin_data_train.copy()\n",
    "y_train_bin= dataset_bin[['intrusion']]\n",
    "X_train_bin= dataset_bin.drop(labels=['intrusion'], axis=1)\n",
    "\n",
    "print('X_train has shape:',X_train_bin.shape,'\\ny_train has shape:',y_train_bin.shape)"
   ]
  },
  {
   "cell_type": "markdown",
   "id": "87fe6b21",
   "metadata": {},
   "source": [
    "# Feature Importance\n",
    "pearson corrolation for binary class dataset\n",
    "-------\n",
    "feature extraction from numeric_bin_data\n",
    "--\n",
    "pearson_bin_dataset is binary-class dataset based on pearson corrolation between numeric features and binary-class ( Intrusion-> yes(1)/no(0))\n",
    "--"
   ]
  },
  {
   "cell_type": "code",
   "execution_count": null,
   "id": "f860bebe",
   "metadata": {},
   "outputs": [],
   "source": [
    "# finding the attributes which have more than 0.5 correlation with encoded attack label attribute \n",
    "corr= numeric_bin_data.corr()\n",
    "corr_y = abs(corr['intrusion'])\n",
    "highest_corr = corr_y[corr_y >0.5]\n",
    "highest_corr.sort_values(ascending=True)\n"
   ]
  },
  {
   "cell_type": "code",
   "execution_count": null,
   "id": "9f75eca2",
   "metadata": {},
   "outputs": [],
   "source": [
    "highest_corr_columns= highest_corr.index"
   ]
  },
  {
   "cell_type": "code",
   "execution_count": null,
   "id": "2c4508d1",
   "metadata": {},
   "outputs": [],
   "source": [
    "plt.figure(figsize=(15,10))\n",
    "g=sns.heatmap(bin_data[highest_corr.index].corr(),annot=True,cmap=\"RdYlGn\")"
   ]
  },
  {
   "cell_type": "code",
   "execution_count": null,
   "id": "030c91d2",
   "metadata": {},
   "outputs": [],
   "source": [
    "# then joining encoded, one-hot-encoded, and original attack label attribute\n",
    "pearson_bin_dataset = numeric_bin_data[highest_corr_columns]\n",
    "pearson_bin_dataset"
   ]
  },
  {
   "cell_type": "markdown",
   "id": "c669a379",
   "metadata": {},
   "source": [
    "pearson corrolation for multi-class dataset\n",
    "feature selection from numeric_multi_data\n",
    "pearson_multi_dataset is multi-class dataset based on pearson corrolation between numeric features and multi-class ( Types of Attacks)"
   ]
  },
  {
   "cell_type": "code",
   "execution_count": null,
   "id": "75b177dd",
   "metadata": {},
   "outputs": [],
   "source": [
    "\n",
    "#feature selection of all features (numeric and categorical features)\n",
    "chi_scores = chi2(X_train_bin,y_train_bin)\n",
    "chi_scores"
   ]
  },
  {
   "cell_type": "code",
   "execution_count": null,
   "id": "ca9fb62c",
   "metadata": {},
   "outputs": [],
   "source": [
    "p_values = pd.Series(chi_scores[1],index = X_train_bin.columns)\n",
    "\n",
    "p_values.sort_values(ascending = False , inplace = True)"
   ]
  },
  {
   "cell_type": "code",
   "execution_count": null,
   "id": "68c0c47c",
   "metadata": {},
   "outputs": [],
   "source": [
    "#select 20 best features\n",
    "p_values = p_values[:20]"
   ]
  },
  {
   "cell_type": "code",
   "execution_count": null,
   "id": "c05cb342",
   "metadata": {},
   "outputs": [],
   "source": [
    "p_values.plot.bar()"
   ]
  },
  {
   "cell_type": "code",
   "execution_count": null,
   "id": "7f9887af",
   "metadata": {},
   "outputs": [],
   "source": [
    "#feature selection of numeric features\n",
    "\n",
    "bestfeatures = SelectKBest(score_func=chi2, k=10)\n",
    "fit = bestfeatures.fit(X_train_num_bin,y_train_num_bin)\n"
   ]
  },
  {
   "cell_type": "code",
   "execution_count": null,
   "id": "b852f104",
   "metadata": {},
   "outputs": [],
   "source": [
    "dfscores = pd.DataFrame(fit.scores_)\n",
    "dfcolumns = pd.DataFrame(X_train_num_bin.columns)"
   ]
  },
  {
   "cell_type": "code",
   "execution_count": null,
   "id": "9b52be32",
   "metadata": {},
   "outputs": [],
   "source": [
    "#concat two dataframes for better visualization \n",
    "featureScores = pd.concat([dfcolumns,dfscores],axis=1)\n",
    "featureScores.columns = ['Specs','Score']  #naming the dataframe columns\n",
    "featureScores"
   ]
  },
  {
   "cell_type": "code",
   "execution_count": null,
   "id": "71011d57",
   "metadata": {},
   "outputs": [],
   "source": [
    "data_chi2_10best = pd.DataFrame(featureScores.nlargest(10,'Score'))  #print 10 best features\n",
    "data_chi2_10best"
   ]
  },
  {
   "cell_type": "code",
   "execution_count": null,
   "id": "e9ca9285",
   "metadata": {},
   "outputs": [],
   "source": [
    "data_chi2_10best = list(data_chi2_10best['Specs'])"
   ]
  },
  {
   "cell_type": "code",
   "execution_count": null,
   "id": "9e81e51a",
   "metadata": {},
   "outputs": [],
   "source": [
    "Chi2_dataset = X_train_num_bin[data_chi2_10best]\n",
    "Chi2_dataset"
   ]
  },
  {
   "cell_type": "code",
   "execution_count": null,
   "id": "a0684862",
   "metadata": {},
   "outputs": [],
   "source": [
    "#Tree base classifier \n",
    "from sklearn.ensemble import ExtraTreesClassifier\n",
    "clf = ExtraTreesClassifier()\n",
    "\n",
    "show_result(multi_data_train, multi_label, clf, model_path)"
   ]
  },
  {
   "cell_type": "code",
   "execution_count": null,
   "id": "5553204e",
   "metadata": {},
   "outputs": [],
   "source": [
    "multi_label"
   ]
  },
  {
   "cell_type": "markdown",
   "id": "2cf1dbf8",
   "metadata": {},
   "source": [
    "# xgboost"
   ]
  },
  {
   "cell_type": "code",
   "execution_count": null,
   "id": "25ab45f6",
   "metadata": {},
   "outputs": [],
   "source": [
    "\n",
    "clf = xgboost.XGBClassifier()\n",
    "show_result(multi_data_train, multi_label, clf, model_path)"
   ]
  },
  {
   "cell_type": "markdown",
   "id": "244f2e97",
   "metadata": {},
   "source": [
    "# Data Standardization\n",
    "Formula = z = x -mean / standard deviation\n",
    "Scaling vs. Normalization: What's the difference? The difference is that, in scaling, you're changing the range of your data. When you standardize a normal distribution, the mean becomes 0 and the standard deviation becomes 1. This allows you to easily calculate the probability of certain values occurring in your distribution, or to compare data sets with different means and standard deviations... while in normalization you're changing the shape of the distribution of your data.\n",
    "\n",
    "Standardization is useful when your data has varying scales and the algorithm you are using does make assumptions about your data having a Gaussian distribution, such as linear regression, logistic regression and linear discriminant analysis\n",
    "\n",
    "Normalization is useful when your data has varying scales and the algorithm you are using does not make assumptions about the distribution of your data, such as k-nearest neighbors and artificial neural networks. Standardization assumes that your data has a Gaussian (bell curve) distribution\n",
    "\n",
    "\n",
    "\n",
    "\n"
   ]
  },
  {
   "cell_type": "code",
   "execution_count": null,
   "id": "be0a07da",
   "metadata": {},
   "outputs": [],
   "source": [
    "numeric_col = train_data.drop(train_info_lc.get_categorical_data_columns(), axis = 1).columns"
   ]
  },
  {
   "cell_type": "code",
   "execution_count": null,
   "id": "0e7c5a08",
   "metadata": {},
   "outputs": [],
   "source": [
    "numeric_col_test = test_data.drop(test_info.get_categorical_data_columns(), axis = 1).columns"
   ]
  },
  {
   "cell_type": "code",
   "execution_count": null,
   "id": "1a977c2c",
   "metadata": {},
   "outputs": [],
   "source": [
    "train_info_lc.get_categorical_data_columns()[0:3]"
   ]
  },
  {
   "cell_type": "code",
   "execution_count": null,
   "id": "29c371ce",
   "metadata": {},
   "outputs": [],
   "source": [
    "train_without_label=train_data.drop('label',axis = 1)\n",
    "train_without_label"
   ]
  },
  {
   "cell_type": "code",
   "execution_count": null,
   "id": "315c5010",
   "metadata": {},
   "outputs": [],
   "source": [
    "test_without_label=test_data.drop('label',axis = 1)\n",
    "test_without_label"
   ]
  },
  {
   "cell_type": "code",
   "execution_count": null,
   "id": "8ff0cbd3",
   "metadata": {
    "scrolled": true
   },
   "outputs": [],
   "source": [
    "std_data = standardization(encode_dataframe(train_without_label.copy(), list(train_info_lc.get_categorical_data_columns())[0:3],encoder_path), train_without_label.columns, scaler_path)                         \n",
    "test_data.columns"
   ]
  },
  {
   "cell_type": "code",
   "execution_count": null,
   "id": "5618d937",
   "metadata": {},
   "outputs": [],
   "source": [
    "#test_info = DataInformation(test_data)"
   ]
  },
  {
   "cell_type": "code",
   "execution_count": null,
   "id": "212f6ad7",
   "metadata": {},
   "outputs": [],
   "source": [
    "std_data_test = standardization(encode_dataframe(test_without_label.copy(), list(test_info.get_categorical_data_columns())[0:3],encoder_path), test_without_label.columns, scaler_path)                         \n"
   ]
  },
  {
   "cell_type": "code",
   "execution_count": null,
   "id": "a653e55f",
   "metadata": {},
   "outputs": [],
   "source": [
    "#std_data_test.to_csv('./raw_data/final_test_data.csv', index = False)\n",
    "data = pd.read_csv('./raw_data/final_test_data.csv')\n",
    "len(data.columns)"
   ]
  },
  {
   "cell_type": "code",
   "execution_count": null,
   "id": "66fd8ce9",
   "metadata": {
    "scrolled": true
   },
   "outputs": [],
   "source": [
    "label = encode_dataframe(pd.DataFrame(train_info_lc.get_data_label().copy()),['label'], encoder_path)"
   ]
  },
  {
   "cell_type": "code",
   "execution_count": null,
   "id": "00de118e",
   "metadata": {},
   "outputs": [],
   "source": [
    "label = encode_dataframe(pd.DataFrame(test_info.get_data_label().copy()),['label'], encoder_path)\n",
    "label['label'].unique()"
   ]
  },
  {
   "cell_type": "code",
   "execution_count": null,
   "id": "349567ad",
   "metadata": {},
   "outputs": [],
   "source": [
    "svm = SVC(kernel='linear',gamma='auto')\n",
    "knn = knn=KNeighborsClassifier(n_neighbors=5)"
   ]
  },
  {
   "cell_type": "code",
   "execution_count": null,
   "id": "279e0944",
   "metadata": {},
   "outputs": [],
   "source": [
    "show_result(X_train_bin, y_train_bin, knn, model_path)\n"
   ]
  },
  {
   "cell_type": "markdown",
   "id": "97931b78",
   "metadata": {},
   "source": [
    "## Result is good but still have 0.23%  of false negetive and 0.26% of true positive in test data"
   ]
  },
  {
   "cell_type": "code",
   "execution_count": null,
   "id": "125bbbff",
   "metadata": {},
   "outputs": [],
   "source": [
    "show_result(X_train_bin, y_train_bin, svm, model_path)"
   ]
  },
  {
   "cell_type": "markdown",
   "id": "6bbdb70f",
   "metadata": {},
   "source": [
    "# Multi Class Classification using knn "
   ]
  },
  {
   "cell_type": "code",
   "execution_count": null,
   "id": "2ee7b02c",
   "metadata": {},
   "outputs": [],
   "source": [
    "show_result(std_data, label, knn, model_path)"
   ]
  },
  {
   "cell_type": "markdown",
   "id": "c37168e2",
   "metadata": {},
   "source": [
    "Here model learns the data in perfect manner and good hyperparameter tunnining is obtain by running differet parameters\n",
    "--\n",
    "The accuracy is too good but we need to focus on pricision and recall value because data is highly imbalanced "
   ]
  },
  {
   "cell_type": "code",
   "execution_count": null,
   "id": "12c97a73",
   "metadata": {},
   "outputs": [],
   "source": [
    "model = LogisticRegression(multi_class='multinomial', solver='lbfgs')"
   ]
  },
  {
   "cell_type": "code",
   "execution_count": null,
   "id": "222554da",
   "metadata": {},
   "outputs": [],
   "source": [
    "str(model)[0:10]"
   ]
  },
  {
   "cell_type": "markdown",
   "id": "93976259",
   "metadata": {},
   "source": [
    "# Binary Classification normal or abnormal conditions is checked using logistic Regression"
   ]
  },
  {
   "cell_type": "code",
   "execution_count": null,
   "id": "72c7bc32",
   "metadata": {},
   "outputs": [],
   "source": [
    "show_result(X_train_bin, y_train_bin, model, model_path)"
   ]
  },
  {
   "cell_type": "markdown",
   "id": "4b4f9ae2",
   "metadata": {},
   "source": [
    "# Multi class Classification normal or abnormal conditions is checked using SVM\n"
   ]
  },
  {
   "cell_type": "code",
   "execution_count": null,
   "id": "489317f9",
   "metadata": {},
   "outputs": [],
   "source": [
    "show_result(std_data, label, svm, model_path)"
   ]
  },
  {
   "cell_type": "code",
   "execution_count": null,
   "id": "a62b97b3",
   "metadata": {},
   "outputs": [],
   "source": [
    "#Using Support vector machine we obtain the multi class classification and result is satisfactory"
   ]
  },
  {
   "cell_type": "code",
   "execution_count": null,
   "id": "17db068e",
   "metadata": {},
   "outputs": [],
   "source": [
    "show_result(std_data, label, model, model_path)"
   ]
  },
  {
   "cell_type": "markdown",
   "id": "8f026822",
   "metadata": {},
   "source": [
    "# Multi class Classification normal or abnormal conditions is checked using logistic Regression\n",
    "----\n",
    "The result obtain is 96% accurate and can be used for classification in real problem under contant supervision "
   ]
  },
  {
   "cell_type": "code",
   "execution_count": null,
   "id": "f1dc5634",
   "metadata": {},
   "outputs": [],
   "source": [
    "!code .\n"
   ]
  }
 ],
 "metadata": {
  "kernelspec": {
   "display_name": "Python 3 (ipykernel)",
   "language": "python",
   "name": "python3"
  },
  "language_info": {
   "codemirror_mode": {
    "name": "ipython",
    "version": 3
   },
   "file_extension": ".py",
   "mimetype": "text/x-python",
   "name": "python",
   "nbconvert_exporter": "python",
   "pygments_lexer": "ipython3",
   "version": "3.9.7"
  }
 },
 "nbformat": 4,
 "nbformat_minor": 5
}
